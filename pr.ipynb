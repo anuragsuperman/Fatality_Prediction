{
 "cells": [
  {
   "cell_type": "markdown",
   "metadata": {},
   "source": [
    "# title: \"Predicting the survival rate of a victim involved in a car accident\"\n",
    "author: \"Anurag Jha\"\n",
    "date: \"April 30th, 2020\""
   ]
  },
  {
   "cell_type": "markdown",
   "metadata": {},
   "source": [
    "Aim- To create a predictive model for a possible survival of a victim involved in an accident by minimizing false negatives and false positive values in the model. The column \"death\", we are predicting is a binary value with \"1\" as \"dead\" and \"0\" as \"alive\"."
   ]
  },
  {
   "cell_type": "code",
   "execution_count": 1,
   "metadata": {},
   "outputs": [
    {
     "name": "stderr",
     "output_type": "stream",
     "text": [
      "\n",
      "Attaching package: 'mice'\n",
      "\n",
      "The following objects are masked from 'package:base':\n",
      "\n",
      "    cbind, rbind\n",
      "\n",
      "-- Attaching packages --------------------------------------- tidyverse 1.3.0 --\n",
      "v ggplot2 3.3.0     v purrr   0.3.3\n",
      "v tibble  3.0.1     v dplyr   0.8.5\n",
      "v tidyr   1.0.2     v stringr 1.4.0\n",
      "v readr   1.3.1     v forcats 0.5.0\n",
      "-- Conflicts ------------------------------------------ tidyverse_conflicts() --\n",
      "x dplyr::filter() masks stats::filter()\n",
      "x dplyr::lag()    masks stats::lag()\n",
      "Loading required package: lattice\n",
      "\n",
      "Attaching package: 'caret'\n",
      "\n",
      "The following object is masked from 'package:purrr':\n",
      "\n",
      "    lift\n",
      "\n",
      "\n",
      "Attaching package: 'caretEnsemble'\n",
      "\n",
      "The following object is masked from 'package:ggplot2':\n",
      "\n",
      "    autoplot\n",
      "\n",
      "\n",
      "Attaching package: 'MASS'\n",
      "\n",
      "The following object is masked from 'package:dplyr':\n",
      "\n",
      "    select\n",
      "\n",
      "\n",
      "Attaching package: 'psych'\n",
      "\n",
      "The following objects are masked from 'package:ggplot2':\n",
      "\n",
      "    %+%, alpha\n",
      "\n",
      "Loading required package: Rcpp\n",
      "## \n",
      "## Amelia II: Multiple Imputation\n",
      "## (Version 1.7.6, built: 2019-11-24)\n",
      "## Copyright (C) 2005-2020 James Honaker, Gary King and Matthew Blackwell\n",
      "## Refer to http://gking.harvard.edu/amelia/ for more information\n",
      "## \n",
      "Registered S3 method overwritten by 'GGally':\n",
      "  method from   \n",
      "  +.gg   ggplot2\n",
      "\n",
      "Attaching package: 'GGally'\n",
      "\n",
      "The following object is masked from 'package:dplyr':\n",
      "\n",
      "    nasa\n",
      "\n",
      "randomForest 4.6-14\n",
      "Type rfNews() to see new features/changes/bug fixes.\n",
      "\n",
      "Attaching package: 'randomForest'\n",
      "\n",
      "The following object is masked from 'package:psych':\n",
      "\n",
      "    outlier\n",
      "\n",
      "The following object is masked from 'package:dplyr':\n",
      "\n",
      "    combine\n",
      "\n",
      "The following object is masked from 'package:ggplot2':\n",
      "\n",
      "    margin\n",
      "\n",
      "Loaded gbm 2.1.5\n"
     ]
    }
   ],
   "source": [
    "start_time <- Sys.time()\n",
    "\n",
    "options(warn=-1, msg=-1)\n",
    "\n",
    "#Loading required packages\n",
    "library(mice)\n",
    "library(tidyverse)\n",
    "library(ggplot2)\n",
    "library(caret)  # confusionMatrix function\n",
    "library(caretEnsemble)\n",
    "library(MASS)  # lda function\n",
    "library(class) # kNN\n",
    "library(psych)\n",
    "library(Amelia)\n",
    "library(mice)\n",
    "library(GGally)\n",
    "library(rpart)\n",
    "library(randomForest)\n",
    "library(gbm)\n",
    "#reading the csv file\n",
    "dataset<- read.csv(\"C:/Users/anuragsuperman/Desktop/HW AR/prj/nassCDS.csv\")"
   ]
  },
  {
   "cell_type": "markdown",
   "metadata": {},
   "source": [
    "Introduction to the Data-\n",
    "The data is from police-reported car accidents which was associated with damage to property or harm to people with at least one car towed in the event from the year range of 1997-2002. The data is for the front seat occupants only. The package name of this data is “nassCDS”.  The platform to analyze the data is R Studio.\n",
    "Data Description-\n",
    "The data frame has 26217 observations and has 16 variables. These variables are described as follows:\n",
    "1.\t“dvcat”- This variable has 5 factors of estimated collision impact speeds. These factors are range of speed in unit kilometers per hour (km/h). The various estimated impact speed ranges are 1-9km/h, 10-24km/h, 25-39km/h, 40-54km/h, 55km/h and above.\n",
    "\n",
    "2.\t“weight”- Column weight was designed to account the sampling probabilities. The range of weight in this data is 0 to 57871.595. This column is numeric and has no unit.\n",
    "\n",
    "3.\t“dead”- This column has only two factors, “dead” and “alive”. This is the response variable for the prediction model. This dependent variable shows if the accident victim was dead or alive.\n",
    "\n",
    "4.\t“airbag”- This independent variable has two factors, “airbag” and “none”. The variable shows if the vehicle was equipped with airbag or not.\n",
    "\n",
    "5.\t“seatbelt”- This variable has two factors, “belted” and “none”. The variable shows that the accident victims were using seatbelt or not.\n",
    "\n",
    "6.\t“frontal”- This variable has two factors, “1” and “0”. The variable “1” shows that the collision was frontal, and the factor “0” shows that the accident was non frontal.\n",
    "\n",
    "7.\t“sex”- This variable shows that the person involved in the accident was male (m)  or female (f).\n",
    "\n",
    "8.\t“ageOFocc”- Ranging from 16 to 97, this factor is numeric and denotes the age of person involved in the accident.\n",
    "\n",
    "9.\t“yearacc”- This numeric column has a range from 1997 to 2002 showing the year in which the accident happened.\n",
    "\n",
    "10.\t“yarVeh”- This numeric variable shows the year of make for the car involved in the accident. The numeric column has range 1953 to 2003. (Even though the most recent accidents occurred in 2002, the most recent year of make for the car involved in the accident is 2003.)\n",
    "\n",
    "11.\t“abcat”- This column has three levels of “nodeploy”, “unavail”, and “deploy”. This factor shows if the airbag in the car got deployed, not deployed, or the information is unavailable.\n",
    "\n",
    "12.\t“occRole”- This variable has two factors of “pass” and “driver”. The variable denotes that the accident victim was a driver or a passenger.\n",
    "\n",
    "13.\t“deploy”- This variable has two factors, “1” for one or more airbags getting deployed in the car involved in the accident and “0” for airbag not deployed or was not available in the car.\n",
    "\n",
    "14.\t“injSeverity”- This column has 7 factors ranging from “0” to “7”. “0” for no injury, “1” for possible injury, “2” for no incapability due to injury, “3” for incapability due to injury, “4” for killed in the accident, “5” as unknown, and “6” for prior death.\n",
    "\n",
    "15.\t“caseid”- This column has a unique ID number made by combining the population sampling unit, case number, and the vehicle number. \n",
    "\n",
    "For a better analysis of the data, the factors were modified as follows:\n",
    "“dvcat” were changed from \"1-9km/h\", “10-24\", \"25-39\", \"40-54\", and \"55+\", to “0”, “1”, “2”, “3”, and “4” respectively.\n",
    "“dead” was changed from “dead” and “alive”, to “1” and “0” respectively.\n",
    "“airbag” was changed from “none” and “airbag” to “0” and “1” respectively.\n",
    "“seatbelt” was changed from “belted” and “none” to “1” and “0” respectively.\n",
    "“sex” was changed from “m” and “f” to “1” and “0” respectively.\n",
    "“abcat” was changed from “unavail”, “nodeploy”, and “deploy” to “2”, “0”, and “1” respectively.\n",
    "“occRole” was changed from “driver” and “pass” to “1” and “0” respectively."
   ]
  },
  {
   "cell_type": "code",
   "execution_count": 2,
   "metadata": {},
   "outputs": [],
   "source": [
    "#Changing the category to numbers\n",
    "levels(dataset$dvcat)[levels(dataset$dvcat) == \"55+\"] <- \"4\"\n",
    "levels(dataset$dvcat)[levels(dataset$dvcat) == \"40-54\"] <- \"3\"\n",
    "levels(dataset$dvcat)[levels(dataset$dvcat) == \"25-39\"] <- \"2\"\n",
    "levels(dataset$dvcat)[levels(dataset$dvcat) == \"10-24\"] <- \"1\"\n",
    "levels(dataset$dvcat)[levels(dataset$dvcat) == \"1-9km/h\"] <- \"0\"\n",
    "\n",
    "levels(dataset$dead)[levels(dataset$dead) == \"dead\"] <- \"1\"\n",
    "levels(dataset$dead)[levels(dataset$dead) == \"alive\"] <- \"0\"\n",
    "\n",
    "levels(dataset$airbag)[levels(dataset$airbag) == \"none\"] <- \"0\"\n",
    "levels(dataset$airbag)[levels(dataset$airbag) == \"airbag\"] <- \"1\"\n",
    "\n",
    "levels(dataset$seatbelt)[levels(dataset$seatbelt) == \"belted\"] <- \"1\"\n",
    "levels(dataset$seatbelt)[levels(dataset$seatbelt) == \"none\"] <- \"0\"\n",
    "\n",
    "levels(dataset$sex)[levels(dataset$sex) == \"m\"] <- \"1\"\n",
    "levels(dataset$sex)[levels(dataset$sex) == \"f\"] <- \"0\"\n",
    "\n",
    "levels(dataset$abcat)[levels(dataset$abcat) == \"unavail\"] <- \"2\"\n",
    "levels(dataset$abcat)[levels(dataset$abcat) == \"nodeploy\"] <- \"0\"\n",
    "levels(dataset$abcat)[levels(dataset$abcat) == \"deploy\"] <- \"1\"\n",
    "\n",
    "levels(dataset$occRole)[levels(dataset$occRole) == \"driver\"] <- \"1\"\n",
    "levels(dataset$occRole)[levels(dataset$occRole) == \"pass\"] <- \"0\""
   ]
  },
  {
   "cell_type": "markdown",
   "metadata": {},
   "source": [
    "The columns, “x” and “caseid” were dropped as they were serial numbers and unique case ID numbers respectively. "
   ]
  },
  {
   "cell_type": "code",
   "execution_count": 3,
   "metadata": {},
   "outputs": [],
   "source": [
    "#dropping x and case id column\n",
    "drops <- c(\"X\", \"caseid\")\n",
    "dataset<- dataset[ , !(names(dataset) %in% drops)]"
   ]
  },
  {
   "cell_type": "markdown",
   "metadata": {},
   "source": [
    "The data was scanned for any missing values and the results showed missing data in the column “injSeverity” "
   ]
  },
  {
   "cell_type": "code",
   "execution_count": 4,
   "metadata": {},
   "outputs": [
    {
     "data": {
      "image/png": "[encoded data removed]",
      "text/plain": [
       "Plot with title \"Missingness Map\""
      ]
     },
     "metadata": {},
     "output_type": "display_data"
    }
   ],
   "source": [
    "# Checking missing values\n",
    "missmap(dataset)"
   ]
  },
  {
   "cell_type": "markdown",
   "metadata": {},
   "source": [
    "The rows containing missing values were checked and removed."
   ]
  },
  {
   "cell_type": "code",
   "execution_count": 5,
   "metadata": {},
   "outputs": [
    {
     "data": {
      "image/png": "[encoded data removed]",
      "text/plain": [
       "Plot with title \"Missingness Map\""
      ]
     },
     "metadata": {},
     "output_type": "display_data"
    }
   ],
   "source": [
    "#removing missing values\n",
    "library(IDPmisc)\n",
    "dataset<-NaRV.omit(dataset)\n",
    "missmap(dataset)"
   ]
  },
  {
   "cell_type": "markdown",
   "metadata": {},
   "source": [
    "After the removal of the rows that had missing values, the size of the data was 26063 observations and 14 columns."
   ]
  },
  {
   "cell_type": "code",
   "execution_count": 6,
   "metadata": {},
   "outputs": [],
   "source": [
    "attach(dataset)"
   ]
  },
  {
   "cell_type": "markdown",
   "metadata": {},
   "source": [
    "Prediction models-\n",
    "Logistic Regression\n",
    "The first model used to predict the variable “dead” using all the other independent variables is “Logistic Regression”.\n",
    "The independent variables used in the Logistic Regression model, “equation_new” are “dvcat”, “weight”, “seatbelt”, “sex”, “ageOFocc”, “yearacc”, “yearVeh”, “abcat”, “occRole”, “deploy”, “injSeverity”, “frontal”, and “airbag”."
   ]
  },
  {
   "cell_type": "code",
   "execution_count": 7,
   "metadata": {},
   "outputs": [
    {
     "data": {
      "text/plain": [
       "\n",
       "Call:\n",
       "glm(formula = dead ~ dvcat + weight + seatbelt + sex + ageOFocc + \n",
       "    yearacc + yearVeh + abcat + occRole + deploy + injSeverity + \n",
       "    frontal + airbag, family = binomial(link = logit), data = dataset)\n",
       "\n",
       "Deviance Residuals: \n",
       "    Min       1Q   Median       3Q      Max  \n",
       "-4.3949  -0.0873  -0.0015  -0.0001   7.4633  \n",
       "\n",
       "Coefficients: (2 not defined because of singularities)\n",
       "              Estimate Std. Error z value Pr(>|z|)    \n",
       "(Intercept) -3.058e+01  6.499e+01  -0.471  0.63799    \n",
       "dvcat1       3.596e+00  8.649e-01   4.158 3.21e-05 ***\n",
       "dvcat2       4.891e+00  8.619e-01   5.674 1.39e-08 ***\n",
       "dvcat3       5.658e+00  8.626e-01   6.560 5.39e-11 ***\n",
       "dvcat4       6.424e+00  8.639e-01   7.436 1.04e-13 ***\n",
       "weight      -7.313e-03  5.919e-04 -12.355  < 2e-16 ***\n",
       "seatbelt0    7.357e-01  1.125e-01   6.541 6.12e-11 ***\n",
       "sex1         3.260e-01  1.131e-01   2.882  0.00395 ** \n",
       "ageOFocc     2.833e-02  2.805e-03  10.102  < 2e-16 ***\n",
       "yearacc      2.448e-03  3.235e-02   0.076  0.93967    \n",
       "yearVeh      1.218e-03  1.323e-02   0.092  0.92659    \n",
       "abcat0      -2.927e-01  1.859e-01  -1.575  0.11524    \n",
       "abcat2       4.254e-02  1.634e-01   0.260  0.79454    \n",
       "occRole0     3.543e-01  1.299e-01   2.727  0.00638 ** \n",
       "deploy              NA         NA      NA       NA    \n",
       "injSeverity  4.552e+00  1.076e-01  42.290  < 2e-16 ***\n",
       "frontal     -9.992e-01  1.167e-01  -8.563  < 2e-16 ***\n",
       "airbag0             NA         NA      NA       NA    \n",
       "---\n",
       "Signif. codes:  0 '***' 0.001 '**' 0.01 '*' 0.05 '.' 0.1 ' ' 1\n",
       "\n",
       "(Dispersion parameter for binomial family taken to be 1)\n",
       "\n",
       "    Null deviance: 9610.0  on 26062  degrees of freedom\n",
       "Residual deviance: 2693.2  on 26047  degrees of freedom\n",
       "AIC: 2725.2\n",
       "\n",
       "Number of Fisher Scoring iterations: 11\n"
      ]
     },
     "metadata": {},
     "output_type": "display_data"
    }
   ],
   "source": [
    "equation_new <- glm(dead~dvcat+weight+seatbelt+sex+ageOFocc+yearacc+yearVeh+abcat+occRole+deploy+injSeverity+frontal+airbag, family = binomial(link=logit), data = dataset)\n",
    "summary(equation_new)"
   ]
  },
  {
   "cell_type": "markdown",
   "metadata": {},
   "source": [
    "The summary shows large p-value for “yearacc”, “yearVeh”, “abcat”, “deploy”, and “airbag”. To check and perform the best subset selection, Akaike's Information Criteria (AIC) and Bayesian Information Criteria (BIC) were calculated for the model. "
   ]
  },
  {
   "cell_type": "code",
   "execution_count": 8,
   "metadata": {},
   "outputs": [
    {
     "data": {
      "text/html": [
       "<style>\n",
       ".dl-inline {width: auto; margin:0; padding: 0}\n",
       ".dl-inline>dt, .dl-inline>dd {float: none; width: auto; display: inline-block}\n",
       ".dl-inline>dt::after {content: \":\\0020\"; padding-right: .5ex}\n",
       ".dl-inline>dt:not(:first-of-type) {padding-left: .5ex}\n",
       "</style><dl class=dl-inline><dt>params</dt><dd>16</dd><dt>AIC</dt><dd>2725.19250140907</dd><dt>BIC</dt><dd>2855.88485281723</dd></dl>\n"
      ],
      "text/latex": [
       "\\begin{description*}\n",
       "\\item[params] 16\n",
       "\\item[AIC] 2725.19250140907\n",
       "\\item[BIC] 2855.88485281723\n",
       "\\end{description*}\n"
      ],
      "text/markdown": [
       "params\n",
       ":   16AIC\n",
       ":   2725.19250140907BIC\n",
       ":   2855.88485281723\n",
       "\n"
      ],
      "text/plain": [
       "  params      AIC      BIC \n",
       "  16.000 2725.193 2855.885 "
      ]
     },
     "metadata": {},
     "output_type": "display_data"
    }
   ],
   "source": [
    "#best subset selection\n",
    "n<- nrow(dataset)\n",
    "q<- 13#number of predictors\n",
    "AICandBIC<- extractAIC(equation_new, k=c(2,log(n)))\n",
    "names(AICandBIC)<- c(\"params\",\"AIC\", \"BIC\")\n",
    "AICandBIC"
   ]
  },
  {
   "cell_type": "markdown",
   "metadata": {},
   "source": [
    "The AIC is 2725.193 and BIC is 2855.885 for the model. The stepwise selection in both direction was performed to drop unnecessary variables in the model. The new model according to the stepwise selection dropped “yearacc”, “yearVeh”, “abcat”, “deploy”, and “airbag”. "
   ]
  },
  {
   "cell_type": "code",
   "execution_count": 9,
   "metadata": {},
   "outputs": [
    {
     "name": "stdout",
     "output_type": "stream",
     "text": [
      "Start:  AIC=2725.19\n",
      "dead ~ dvcat + weight + seatbelt + sex + ageOFocc + yearacc + \n",
      "    yearVeh + abcat + occRole + deploy + injSeverity + frontal + \n",
      "    airbag\n",
      "\n",
      "\n",
      "Step:  AIC=2725.19\n",
      "dead ~ dvcat + weight + seatbelt + sex + ageOFocc + yearacc + \n",
      "    yearVeh + abcat + occRole + deploy + injSeverity + frontal\n",
      "\n",
      "\n",
      "Step:  AIC=2725.19\n",
      "dead ~ dvcat + weight + seatbelt + sex + ageOFocc + yearacc + \n",
      "    yearVeh + abcat + occRole + injSeverity + frontal\n",
      "\n",
      "              Df Deviance    AIC\n",
      "- yearacc      1   2693.2 2723.2\n",
      "- yearVeh      1   2693.2 2723.2\n",
      "- abcat        2   2696.3 2724.3\n",
      "<none>             2693.2 2725.2\n",
      "- occRole      1   2700.5 2730.5\n",
      "- sex          1   2701.6 2731.6\n",
      "- seatbelt     1   2736.7 2766.7\n",
      "- frontal      1   2766.8 2796.8\n",
      "- ageOFocc     1   2796.7 2826.7\n",
      "- weight       1   2929.5 2959.5\n",
      "- dvcat        4   3017.4 3041.4\n",
      "- injSeverity  1   6689.1 6719.1\n",
      "\n",
      "Step:  AIC=2723.2\n",
      "dead ~ dvcat + weight + seatbelt + sex + ageOFocc + yearVeh + \n",
      "    abcat + occRole + injSeverity + frontal\n",
      "\n",
      "              Df Deviance    AIC\n",
      "- yearVeh      1   2693.2 2721.2\n",
      "- abcat        2   2696.3 2722.3\n",
      "<none>             2693.2 2723.2\n",
      "+ yearacc      1   2693.2 2725.2\n",
      "- occRole      1   2700.5 2728.5\n",
      "- sex          1   2701.6 2729.6\n",
      "- seatbelt     1   2736.7 2764.7\n",
      "- frontal      1   2766.9 2794.9\n",
      "- ageOFocc     1   2796.7 2824.7\n",
      "- weight       1   2929.8 2957.8\n",
      "- dvcat        4   3017.7 3039.7\n",
      "- injSeverity  1   6690.0 6718.0\n",
      "\n",
      "Step:  AIC=2721.21\n",
      "dead ~ dvcat + weight + seatbelt + sex + ageOFocc + abcat + occRole + \n",
      "    injSeverity + frontal\n",
      "\n",
      "              Df Deviance    AIC\n",
      "- abcat        2   2696.7 2720.7\n",
      "<none>             2693.2 2721.2\n",
      "+ yearVeh      1   2693.2 2723.2\n",
      "+ yearacc      1   2693.2 2723.2\n",
      "- occRole      1   2700.6 2726.6\n",
      "- sex          1   2701.6 2727.6\n",
      "- seatbelt     1   2737.1 2763.1\n",
      "- frontal      1   2766.9 2792.9\n",
      "- ageOFocc     1   2797.1 2823.1\n",
      "- weight       1   2929.8 2955.8\n",
      "- dvcat        4   3018.1 3038.1\n",
      "- injSeverity  1   6690.8 6716.8\n",
      "\n",
      "Step:  AIC=2720.67\n",
      "dead ~ dvcat + weight + seatbelt + sex + ageOFocc + occRole + \n",
      "    injSeverity + frontal\n",
      "\n",
      "              Df Deviance    AIC\n",
      "<none>             2696.7 2720.7\n",
      "+ abcat        2   2693.2 2721.2\n",
      "+ airbag       1   2695.7 2721.7\n",
      "+ yearVeh      1   2696.3 2722.3\n",
      "+ deploy       1   2696.6 2722.6\n",
      "+ yearacc      1   2696.6 2722.6\n",
      "- occRole      1   2704.2 2726.2\n",
      "- sex          1   2705.5 2727.5\n",
      "- seatbelt     1   2742.3 2764.3\n",
      "- frontal      1   2768.2 2790.2\n",
      "- ageOFocc     1   2800.6 2822.6\n",
      "- weight       1   2932.4 2954.4\n",
      "- dvcat        4   3037.1 3053.1\n",
      "- injSeverity  1   6703.2 6725.2\n"
     ]
    },
    {
     "data": {
      "text/plain": [
       "\n",
       "Call:  glm(formula = dead ~ dvcat + weight + seatbelt + sex + ageOFocc + \n",
       "    occRole + injSeverity + frontal, family = binomial(link = logit), \n",
       "    data = dataset)\n",
       "\n",
       "Coefficients:\n",
       "(Intercept)       dvcat1       dvcat2       dvcat3       dvcat4       weight  \n",
       " -23.394561     3.625267     4.960817     5.735267     6.501236    -0.007293  \n",
       "  seatbelt0         sex1     ageOFocc     occRole0  injSeverity      frontal  \n",
       "   0.745627     0.334123     0.028310     0.358138     4.552890    -0.929560  \n",
       "\n",
       "Degrees of Freedom: 26062 Total (i.e. Null);  26051 Residual\n",
       "Null Deviance:\t    9610 \n",
       "Residual Deviance: 2697 \tAIC: 2721"
      ]
     },
     "metadata": {},
     "output_type": "display_data"
    }
   ],
   "source": [
    "step(equation_new,direction = \"both\")"
   ]
  },
  {
   "cell_type": "markdown",
   "metadata": {},
   "source": [
    "The new model “equation_both” was as follows:"
   ]
  },
  {
   "cell_type": "code",
   "execution_count": 10,
   "metadata": {},
   "outputs": [
    {
     "data": {
      "text/plain": [
       "\n",
       "Call:\n",
       "glm(formula = dead ~ dvcat + weight + seatbelt + sex + ageOFocc + \n",
       "    occRole + injSeverity + frontal, family = binomial(link = logit), \n",
       "    data = dataset)\n",
       "\n",
       "Deviance Residuals: \n",
       "    Min       1Q   Median       3Q      Max  \n",
       "-4.3985  -0.0868  -0.0015  -0.0001   7.4582  \n",
       "\n",
       "Coefficients:\n",
       "              Estimate Std. Error z value Pr(>|z|)    \n",
       "(Intercept) -2.339e+01  1.005e+00 -23.268  < 2e-16 ***\n",
       "dvcat1       3.625e+00  8.551e-01   4.240 2.24e-05 ***\n",
       "dvcat2       4.961e+00  8.517e-01   5.824 5.73e-09 ***\n",
       "dvcat3       5.735e+00  8.523e-01   6.729 1.71e-11 ***\n",
       "dvcat4       6.501e+00  8.539e-01   7.613 2.67e-14 ***\n",
       "weight      -7.293e-03  5.921e-04 -12.316  < 2e-16 ***\n",
       "seatbelt0    7.456e-01  1.114e-01   6.695 2.16e-11 ***\n",
       "sex1         3.341e-01  1.127e-01   2.964  0.00304 ** \n",
       "ageOFocc     2.831e-02  2.795e-03  10.130  < 2e-16 ***\n",
       "occRole0     3.581e-01  1.292e-01   2.771  0.00558 ** \n",
       "injSeverity  4.553e+00  1.076e-01  42.325  < 2e-16 ***\n",
       "frontal     -9.296e-01  1.104e-01  -8.419  < 2e-16 ***\n",
       "---\n",
       "Signif. codes:  0 '***' 0.001 '**' 0.01 '*' 0.05 '.' 0.1 ' ' 1\n",
       "\n",
       "(Dispersion parameter for binomial family taken to be 1)\n",
       "\n",
       "    Null deviance: 9610.0  on 26062  degrees of freedom\n",
       "Residual deviance: 2696.7  on 26051  degrees of freedom\n",
       "AIC: 2720.7\n",
       "\n",
       "Number of Fisher Scoring iterations: 11\n"
      ]
     },
     "metadata": {},
     "output_type": "display_data"
    }
   ],
   "source": [
    "equation_both<- glm(dead ~ dvcat + weight + seatbelt + sex + ageOFocc +occRole + injSeverity + frontal, family = binomial(link = logit), data = dataset)\n",
    "summary(equation_both)"
   ]
  },
  {
   "cell_type": "markdown",
   "metadata": {},
   "source": [
    "The summary shows the coefficients of the variable in the column “Estimate” of the summary. The Standard error of each variable is in the column “Std. Error” and the ratio of “Estimate” and “Std. Error” gives us the Z-Value right next to it. The P values in the “Pr(>|z|)” column shows that the data has significant impact of the independent variables chosen from the stepwise selection procedure.\n",
    "\n",
    "The confusion matrix for the model “equation_both” is obtained as shown below:"
   ]
  },
  {
   "cell_type": "code",
   "execution_count": 11,
   "metadata": {},
   "outputs": [
    {
     "data": {
      "text/plain": [
       "    dead_preds\n",
       "dead     0     1\n",
       "   0 24756   127\n",
       "   1   193   987"
      ]
     },
     "metadata": {},
     "output_type": "display_data"
    }
   ],
   "source": [
    "dead_probs<- predict(equation_both, type= \"response\")\n",
    "dead_preds <- 1*(dead_probs >0.5)\n",
    "pred_table<- table(dead, dead_preds)\n",
    "pred_table"
   ]
  },
  {
   "cell_type": "code",
   "execution_count": 12,
   "metadata": {},
   "outputs": [
    {
     "data": {
      "text/html": [
       "0.992264219006774"
      ],
      "text/latex": [
       "0.992264219006774"
      ],
      "text/markdown": [
       "0.992264219006774"
      ],
      "text/plain": [
       "[1] 0.9922642"
      ]
     },
     "metadata": {},
     "output_type": "display_data"
    },
    {
     "data": {
      "text/html": [
       "0.994896113812643"
      ],
      "text/latex": [
       "0.994896113812643"
      ],
      "text/markdown": [
       "0.994896113812643"
      ],
      "text/plain": [
       "[1] 0.9948961"
      ]
     },
     "metadata": {},
     "output_type": "display_data"
    },
    {
     "data": {
      "text/html": [
       "0.987722058090013"
      ],
      "text/latex": [
       "0.987722058090013"
      ],
      "text/markdown": [
       "0.987722058090013"
      ],
      "text/plain": [
       "[1] 0.9877221"
      ]
     },
     "metadata": {},
     "output_type": "display_data"
    }
   ],
   "source": [
    "(recall_eq<- 24756/(24756+193))\n",
    "(precision_eq<- 24756/(24756+127))\n",
    "(Accuracy_eq<-  (24756+987)/(24756+987+127+193))"
   ]
  },
  {
   "cell_type": "markdown",
   "metadata": {},
   "source": [
    "The True Positive (TP) value 24756 shows that 24756 correct alive people were classified/predicted as alive. The True Negative (TN) value 987 shows that 987 people were predicted dead and were dead when compared to the dependent variable column. The False Positive (FP) value 127 and False Negative (FN) value 193 shows the misclassification of the model by predicting dead people alive and alive people dead in the prediction. The “recall” is calculated 0.992 which shows that out of all the positive classes that were predicted (classifying alive), 99.2% (TP/(TP+FN)) were predicted correctly as alive and the rest were dead but were predicted alive. The “precision” is calculated 0.995 which denotes the model predicted 99.5% (TP/(TP+FP)) of the total alive people. The Accuracy of the model ((TP+TN)/Total) is 98.8%.\n",
    "\n",
    "__________Random Forest____________\n",
    "The second model used to predict the dependant variable “dead”, is Random Forest. The model “random_eq1” has all the independent variables as predicting values which are “equation_new” are “dvcat”, “weight”, “seatbelt”, “sex”, “ageOFocc”, “yearacc”, “yearVeh”, “abcat”, “occRole”, “deploy”, “injSeverity”, “frontal”, and “airbag”. The model is coded as below:"
   ]
  },
  {
   "cell_type": "code",
   "execution_count": 13,
   "metadata": {},
   "outputs": [
    {
     "name": "stderr",
     "output_type": "stream",
     "text": [
      "Loading required package: leaps\n"
     ]
    },
    {
     "data": {
      "text/plain": [
       "\n",
       "Call:\n",
       " randomForest(formula = as.factor(dead) ~ dvcat + weight + seatbelt +      sex + ageOFocc + yearacc + yearVeh + abcat + occRole + deploy +      injSeverity + frontal + airbag, data = dataset, mtry = 13,      importance = TRUE) \n",
       "               Type of random forest: classification\n",
       "                     Number of trees: 500\n",
       "No. of variables tried at each split: 13\n",
       "\n",
       "        OOB estimate of  error rate: 0.53%\n",
       "Confusion matrix:\n",
       "      0    1 class.error\n",
       "0 24842   41 0.001647711\n",
       "1    96 1084 0.081355932"
      ]
     },
     "metadata": {},
     "output_type": "display_data"
    }
   ],
   "source": [
    "library(bestglm)\n",
    "library(randomForest)\n",
    "library(leaps)\n",
    "set.seed(1600)\n",
    "random_eq1 <- randomForest(as.factor(dead)~dvcat+weight+seatbelt+sex+ageOFocc+yearacc+yearVeh+abcat+occRole+deploy+injSeverity+frontal+airbag, mtry=13,importance=TRUE,data=dataset)\n",
    "random_eq1"
   ]
  },
  {
   "cell_type": "markdown",
   "metadata": {},
   "source": [
    "variable importance chart shows the importance of the accuracy in order\n",
    "\n",
    "The number of trees and “mtry” values are an important part of the model Random Forest. These values are 500 and 8 respectively for the model “random_eq1”. “mtry” denotes the number of variables tried at each split. The Oout-of-bag (OOB) error helps in measuring the error of random forest which is 0.53% for this model. To get the best results, we will first plot the number of trees vs error rate."
   ]
  },
  {
   "cell_type": "code",
   "execution_count": 14,
   "metadata": {},
   "outputs": [
    {
     "data": {
      "text/plain": [
       "\n",
       "Call:\n",
       " randomForest(formula = as.factor(dead) ~ dvcat + weight + seatbelt +      sex + ageOFocc + yearacc + yearVeh + abcat + occRole + deploy +      injSeverity + frontal + airbag, data = dataset, mtry = 8,      importance = TRUE) \n",
       "               Type of random forest: classification\n",
       "                     Number of trees: 500\n",
       "No. of variables tried at each split: 8\n",
       "\n",
       "        OOB estimate of  error rate: 0.51%\n",
       "Confusion matrix:\n",
       "      0    1 class.error\n",
       "0 24848   35 0.001406583\n",
       "1    97 1083 0.082203390"
      ]
     },
     "metadata": {},
     "output_type": "display_data"
    }
   ],
   "source": [
    "random_eq2 <- randomForest(as.factor(dead)~dvcat+weight+seatbelt+sex+ageOFocc+yearacc+yearVeh+abcat+occRole+deploy+injSeverity+frontal+airbag, mtry=8,importance=TRUE,data=dataset)\n",
    "random_eq2"
   ]
  },
  {
   "cell_type": "code",
   "execution_count": 15,
   "metadata": {},
   "outputs": [
    {
     "data": {
      "image/png": "[encoded data removed]",
      "text/plain": [
       "Plot with title \"\""
      ]
     },
     "metadata": {},
     "output_type": "display_data"
    }
   ],
   "source": [
    "plot(random_eq1, main= \"\")"
   ]
  },
  {
   "cell_type": "markdown",
   "metadata": {},
   "source": [
    "The graph shows that the error rate decreases with the increase in number of trees till about less than 100 trees. Then the error rate remains the same. A bunch of combinations were tried in the process of finding a prediction model with least OOB error. "
   ]
  },
  {
   "cell_type": "code",
   "execution_count": 16,
   "metadata": {},
   "outputs": [
    {
     "data": {
      "text/plain": [
       "\n",
       "Call:\n",
       " randomForest(formula = as.factor(dead) ~ dvcat + weight + seatbelt +      sex + ageOFocc + yearacc + yearVeh + abcat + occRole + deploy +      injSeverity + frontal + airbag, data = dataset, mtry = 3,      importance = TRUE) \n",
       "               Type of random forest: classification\n",
       "                     Number of trees: 500\n",
       "No. of variables tried at each split: 3\n",
       "\n",
       "        OOB estimate of  error rate: 0.49%\n",
       "Confusion matrix:\n",
       "      0    1 class.error\n",
       "0 24852   31  0.00124583\n",
       "1    96 1084  0.08135593"
      ]
     },
     "metadata": {},
     "output_type": "display_data"
    }
   ],
   "source": [
    "#best results\n",
    "random_eq3 <- randomForest(as.factor(dead)~dvcat+weight+seatbelt+sex+ageOFocc+yearacc+yearVeh+abcat+occRole+deploy+injSeverity+frontal+airbag, mtry=3,importance=TRUE,data=dataset)\n",
    "random_eq3"
   ]
  },
  {
   "cell_type": "code",
   "execution_count": 17,
   "metadata": {},
   "outputs": [],
   "source": [
    "set.seed(1600)\n",
    "forest<- c(100, 250, 500)\n",
    "npara<- c(3, 6, 8)\n",
    "random_eq5 <- randomForest(as.factor(dead)~dvcat+weight+seatbelt+sex+ageOFocc+yearacc+yearVeh+abcat+occRole+deploy+injSeverity+frontal+airbag, mtry=npara[1], ntree=forest[1], importance=TRUE,data=dataset)\n",
    "\n",
    "random_eq6 <- randomForest(as.factor(dead)~dvcat+weight+seatbelt+sex+ageOFocc+yearacc+yearVeh+abcat+occRole+deploy+injSeverity+frontal+airbag, mtry=npara[1],ntree=forest[2],importance=TRUE,data=dataset)\n",
    "\n",
    "random_eq7 <- randomForest(as.factor(dead)~dvcat+weight+seatbelt+sex+ageOFocc+yearacc+yearVeh+abcat+occRole+deploy+injSeverity+frontal+airbag, mtry=npara[1],ntree=forest[3],importance=TRUE,data=dataset)\n",
    "\n",
    "random_eq8 <- randomForest(as.factor(dead)~dvcat+weight+seatbelt+sex+ageOFocc+yearacc+yearVeh+abcat+occRole+deploy+injSeverity+frontal+airbag, mtry=npara[2],ntree=forest[1],importance=TRUE,data=dataset)\n",
    "\n",
    "random_eq9 <- randomForest(as.factor(dead)~dvcat+weight+seatbelt+sex+ageOFocc+yearacc+yearVeh+abcat+occRole+deploy+injSeverity+frontal+airbag, mtry=npara[2],ntree=forest[2],importance=TRUE,data=dataset)\n",
    "\n",
    "random_eq10 <- randomForest(as.factor(dead)~dvcat+weight+seatbelt+sex+ageOFocc+yearacc+yearVeh+abcat+occRole+deploy+injSeverity+frontal+airbag, mtry=npara[2],ntree=forest[3],importance=TRUE,data=dataset)\n",
    "\n",
    "random_eq11 <- randomForest(as.factor(dead)~dvcat+weight+seatbelt+sex+ageOFocc+yearacc+yearVeh+abcat+occRole+deploy+injSeverity+frontal+airbag, mtry=npara[3],ntree=forest[1],importance=TRUE,data=dataset)\n",
    "\n",
    "random_eq12 <- randomForest(as.factor(dead)~dvcat+weight+seatbelt+sex+ageOFocc+yearacc+yearVeh+abcat+occRole+deploy+injSeverity+frontal+airbag, mtry=npara[3],ntree=forest[2],importance=TRUE,data=dataset)\n",
    "\n",
    "random_eq13 <- randomForest(as.factor(dead)~dvcat+weight+seatbelt+sex+ageOFocc+yearacc+yearVeh+abcat+occRole+deploy+injSeverity+frontal+airbag, mtry=npara[3],ntree=forest[3],importance=TRUE,data=dataset)"
   ]
  },
  {
   "cell_type": "markdown",
   "metadata": {},
   "source": [
    "Out of all the models, the best OOB rating came with the model “random_eq9” with number of trees 250 and “mtry” value of 6. The OOB error rate is 0.49%."
   ]
  },
  {
   "cell_type": "code",
   "execution_count": 18,
   "metadata": {},
   "outputs": [
    {
     "data": {
      "text/plain": [
       "\n",
       "Call:\n",
       " randomForest(formula = as.factor(dead) ~ dvcat + weight + seatbelt +      sex + ageOFocc + yearacc + yearVeh + abcat + occRole + deploy +      injSeverity + frontal + airbag, data = dataset, mtry = npara[1],      ntree = forest[1], importance = TRUE) \n",
       "               Type of random forest: classification\n",
       "                     Number of trees: 100\n",
       "No. of variables tried at each split: 3\n",
       "\n",
       "        OOB estimate of  error rate: 0.5%\n",
       "Confusion matrix:\n",
       "      0    1 class.error\n",
       "0 24852   31  0.00124583\n",
       "1    99 1081  0.08389831"
      ]
     },
     "metadata": {},
     "output_type": "display_data"
    },
    {
     "data": {
      "text/plain": [
       "\n",
       "Call:\n",
       " randomForest(formula = as.factor(dead) ~ dvcat + weight + seatbelt +      sex + ageOFocc + yearacc + yearVeh + abcat + occRole + deploy +      injSeverity + frontal + airbag, data = dataset, mtry = npara[1],      ntree = forest[2], importance = TRUE) \n",
       "               Type of random forest: classification\n",
       "                     Number of trees: 250\n",
       "No. of variables tried at each split: 3\n",
       "\n",
       "        OOB estimate of  error rate: 0.49%\n",
       "Confusion matrix:\n",
       "      0    1 class.error\n",
       "0 24851   32 0.001286019\n",
       "1    96 1084 0.081355932"
      ]
     },
     "metadata": {},
     "output_type": "display_data"
    },
    {
     "data": {
      "text/plain": [
       "\n",
       "Call:\n",
       " randomForest(formula = as.factor(dead) ~ dvcat + weight + seatbelt +      sex + ageOFocc + yearacc + yearVeh + abcat + occRole + deploy +      injSeverity + frontal + airbag, data = dataset, mtry = npara[1],      ntree = forest[3], importance = TRUE) \n",
       "               Type of random forest: classification\n",
       "                     Number of trees: 500\n",
       "No. of variables tried at each split: 3\n",
       "\n",
       "        OOB estimate of  error rate: 0.49%\n",
       "Confusion matrix:\n",
       "      0    1 class.error\n",
       "0 24850   33 0.001326207\n",
       "1    96 1084 0.081355932"
      ]
     },
     "metadata": {},
     "output_type": "display_data"
    },
    {
     "data": {
      "text/plain": [
       "\n",
       "Call:\n",
       " randomForest(formula = as.factor(dead) ~ dvcat + weight + seatbelt +      sex + ageOFocc + yearacc + yearVeh + abcat + occRole + deploy +      injSeverity + frontal + airbag, data = dataset, mtry = npara[2],      ntree = forest[1], importance = TRUE) \n",
       "               Type of random forest: classification\n",
       "                     Number of trees: 100\n",
       "No. of variables tried at each split: 6\n",
       "\n",
       "        OOB estimate of  error rate: 0.5%\n",
       "Confusion matrix:\n",
       "      0    1 class.error\n",
       "0 24849   34 0.001366395\n",
       "1    96 1084 0.081355932"
      ]
     },
     "metadata": {},
     "output_type": "display_data"
    },
    {
     "data": {
      "text/plain": [
       "\n",
       "Call:\n",
       " randomForest(formula = as.factor(dead) ~ dvcat + weight + seatbelt +      sex + ageOFocc + yearacc + yearVeh + abcat + occRole + deploy +      injSeverity + frontal + airbag, data = dataset, mtry = npara[2],      ntree = forest[2], importance = TRUE) \n",
       "               Type of random forest: classification\n",
       "                     Number of trees: 250\n",
       "No. of variables tried at each split: 6\n",
       "\n",
       "        OOB estimate of  error rate: 0.49%\n",
       "Confusion matrix:\n",
       "      0    1 class.error\n",
       "0 24850   33 0.001326207\n",
       "1    96 1084 0.081355932"
      ]
     },
     "metadata": {},
     "output_type": "display_data"
    },
    {
     "data": {
      "text/plain": [
       "\n",
       "Call:\n",
       " randomForest(formula = as.factor(dead) ~ dvcat + weight + seatbelt +      sex + ageOFocc + yearacc + yearVeh + abcat + occRole + deploy +      injSeverity + frontal + airbag, data = dataset, mtry = npara[2],      ntree = forest[3], importance = TRUE) \n",
       "               Type of random forest: classification\n",
       "                     Number of trees: 500\n",
       "No. of variables tried at each split: 6\n",
       "\n",
       "        OOB estimate of  error rate: 0.49%\n",
       "Confusion matrix:\n",
       "      0    1 class.error\n",
       "0 24850   33 0.001326207\n",
       "1    96 1084 0.081355932"
      ]
     },
     "metadata": {},
     "output_type": "display_data"
    },
    {
     "data": {
      "text/plain": [
       "\n",
       "Call:\n",
       " randomForest(formula = as.factor(dead) ~ dvcat + weight + seatbelt +      sex + ageOFocc + yearacc + yearVeh + abcat + occRole + deploy +      injSeverity + frontal + airbag, data = dataset, mtry = npara[3],      ntree = forest[1], importance = TRUE) \n",
       "               Type of random forest: classification\n",
       "                     Number of trees: 100\n",
       "No. of variables tried at each split: 8\n",
       "\n",
       "        OOB estimate of  error rate: 0.5%\n",
       "Confusion matrix:\n",
       "      0    1 class.error\n",
       "0 24849   34 0.001366395\n",
       "1    96 1084 0.081355932"
      ]
     },
     "metadata": {},
     "output_type": "display_data"
    },
    {
     "data": {
      "text/plain": [
       "\n",
       "Call:\n",
       " randomForest(formula = as.factor(dead) ~ dvcat + weight + seatbelt +      sex + ageOFocc + yearacc + yearVeh + abcat + occRole + deploy +      injSeverity + frontal + airbag, data = dataset, mtry = npara[3],      ntree = forest[2], importance = TRUE) \n",
       "               Type of random forest: classification\n",
       "                     Number of trees: 250\n",
       "No. of variables tried at each split: 8\n",
       "\n",
       "        OOB estimate of  error rate: 0.5%\n",
       "Confusion matrix:\n",
       "      0    1 class.error\n",
       "0 24848   35 0.001406583\n",
       "1    96 1084 0.081355932"
      ]
     },
     "metadata": {},
     "output_type": "display_data"
    },
    {
     "data": {
      "text/plain": [
       "\n",
       "Call:\n",
       " randomForest(formula = as.factor(dead) ~ dvcat + weight + seatbelt +      sex + ageOFocc + yearacc + yearVeh + abcat + occRole + deploy +      injSeverity + frontal + airbag, data = dataset, mtry = npara[3],      ntree = forest[3], importance = TRUE) \n",
       "               Type of random forest: classification\n",
       "                     Number of trees: 500\n",
       "No. of variables tried at each split: 8\n",
       "\n",
       "        OOB estimate of  error rate: 0.51%\n",
       "Confusion matrix:\n",
       "      0    1 class.error\n",
       "0 24847   36 0.001446771\n",
       "1    96 1084 0.081355932"
      ]
     },
     "metadata": {},
     "output_type": "display_data"
    }
   ],
   "source": [
    "random_eq5\n",
    "random_eq6\n",
    "random_eq7\n",
    "random_eq8\n",
    "random_eq9\n",
    "random_eq10\n",
    "random_eq11\n",
    "random_eq12\n",
    "random_eq13"
   ]
  },
  {
   "cell_type": "code",
   "execution_count": 19,
   "metadata": {},
   "outputs": [
    {
     "data": {
      "text/html": [
       "<table>\n",
       "<caption>A matrix: 13 × 4 of type dbl</caption>\n",
       "<thead>\n",
       "\t<tr><th></th><th scope=col>0</th><th scope=col>1</th><th scope=col>MeanDecreaseAccuracy</th><th scope=col>MeanDecreaseGini</th></tr>\n",
       "</thead>\n",
       "<tbody>\n",
       "\t<tr><th scope=row>dvcat</th><td>  0.4844796</td><td> 30.4493274</td><td> 25.2560405</td><td>  84.695757</td></tr>\n",
       "\t<tr><th scope=row>weight</th><td> -0.5443842</td><td>  5.9622788</td><td>  4.8950679</td><td> 107.247471</td></tr>\n",
       "\t<tr><th scope=row>seatbelt</th><td> -3.3876572</td><td>  7.3961591</td><td>  1.0704281</td><td>  13.142185</td></tr>\n",
       "\t<tr><th scope=row>sex</th><td>  0.8021174</td><td> -0.1223788</td><td>  0.6670998</td><td>   7.909963</td></tr>\n",
       "\t<tr><th scope=row>ageOFocc</th><td>  8.1824938</td><td> -1.6836470</td><td>  6.4161685</td><td>  66.535835</td></tr>\n",
       "\t<tr><th scope=row>yearacc</th><td>  6.5883934</td><td> -0.1038826</td><td>  5.5741339</td><td>  22.651917</td></tr>\n",
       "\t<tr><th scope=row>yearVeh</th><td> 12.7246541</td><td>  3.9657789</td><td> 13.3935378</td><td>  41.393088</td></tr>\n",
       "\t<tr><th scope=row>abcat</th><td>  7.7248377</td><td> -1.3052906</td><td>  7.1192517</td><td>   5.230626</td></tr>\n",
       "\t<tr><th scope=row>occRole</th><td>  1.4967473</td><td>  0.8574473</td><td>  1.6488738</td><td>   6.712846</td></tr>\n",
       "\t<tr><th scope=row>deploy</th><td>  5.4910223</td><td> -0.3704413</td><td>  4.8668428</td><td>   4.738656</td></tr>\n",
       "\t<tr><th scope=row>injSeverity</th><td>130.1512571</td><td>673.7483387</td><td>224.6117765</td><td>1880.584599</td></tr>\n",
       "\t<tr><th scope=row>frontal</th><td>  6.5042801</td><td> 10.0521840</td><td> 11.8679938</td><td>  11.927688</td></tr>\n",
       "\t<tr><th scope=row>airbag</th><td>  6.2643220</td><td> -0.5682610</td><td>  5.9212083</td><td>   2.216257</td></tr>\n",
       "</tbody>\n",
       "</table>\n"
      ],
      "text/latex": [
       "A matrix: 13 × 4 of type dbl\n",
       "\\begin{tabular}{r|llll}\n",
       "  & 0 & 1 & MeanDecreaseAccuracy & MeanDecreaseGini\\\\\n",
       "\\hline\n",
       "\tdvcat &   0.4844796 &  30.4493274 &  25.2560405 &   84.695757\\\\\n",
       "\tweight &  -0.5443842 &   5.9622788 &   4.8950679 &  107.247471\\\\\n",
       "\tseatbelt &  -3.3876572 &   7.3961591 &   1.0704281 &   13.142185\\\\\n",
       "\tsex &   0.8021174 &  -0.1223788 &   0.6670998 &    7.909963\\\\\n",
       "\tageOFocc &   8.1824938 &  -1.6836470 &   6.4161685 &   66.535835\\\\\n",
       "\tyearacc &   6.5883934 &  -0.1038826 &   5.5741339 &   22.651917\\\\\n",
       "\tyearVeh &  12.7246541 &   3.9657789 &  13.3935378 &   41.393088\\\\\n",
       "\tabcat &   7.7248377 &  -1.3052906 &   7.1192517 &    5.230626\\\\\n",
       "\toccRole &   1.4967473 &   0.8574473 &   1.6488738 &    6.712846\\\\\n",
       "\tdeploy &   5.4910223 &  -0.3704413 &   4.8668428 &    4.738656\\\\\n",
       "\tinjSeverity & 130.1512571 & 673.7483387 & 224.6117765 & 1880.584599\\\\\n",
       "\tfrontal &   6.5042801 &  10.0521840 &  11.8679938 &   11.927688\\\\\n",
       "\tairbag &   6.2643220 &  -0.5682610 &   5.9212083 &    2.216257\\\\\n",
       "\\end{tabular}\n"
      ],
      "text/markdown": [
       "\n",
       "A matrix: 13 × 4 of type dbl\n",
       "\n",
       "| <!--/--> | 0 | 1 | MeanDecreaseAccuracy | MeanDecreaseGini |\n",
       "|---|---|---|---|---|\n",
       "| dvcat |   0.4844796 |  30.4493274 |  25.2560405 |   84.695757 |\n",
       "| weight |  -0.5443842 |   5.9622788 |   4.8950679 |  107.247471 |\n",
       "| seatbelt |  -3.3876572 |   7.3961591 |   1.0704281 |   13.142185 |\n",
       "| sex |   0.8021174 |  -0.1223788 |   0.6670998 |    7.909963 |\n",
       "| ageOFocc |   8.1824938 |  -1.6836470 |   6.4161685 |   66.535835 |\n",
       "| yearacc |   6.5883934 |  -0.1038826 |   5.5741339 |   22.651917 |\n",
       "| yearVeh |  12.7246541 |   3.9657789 |  13.3935378 |   41.393088 |\n",
       "| abcat |   7.7248377 |  -1.3052906 |   7.1192517 |    5.230626 |\n",
       "| occRole |   1.4967473 |   0.8574473 |   1.6488738 |    6.712846 |\n",
       "| deploy |   5.4910223 |  -0.3704413 |   4.8668428 |    4.738656 |\n",
       "| injSeverity | 130.1512571 | 673.7483387 | 224.6117765 | 1880.584599 |\n",
       "| frontal |   6.5042801 |  10.0521840 |  11.8679938 |   11.927688 |\n",
       "| airbag |   6.2643220 |  -0.5682610 |   5.9212083 |    2.216257 |\n",
       "\n"
      ],
      "text/plain": [
       "            0           1           MeanDecreaseAccuracy MeanDecreaseGini\n",
       "dvcat         0.4844796  30.4493274  25.2560405            84.695757     \n",
       "weight       -0.5443842   5.9622788   4.8950679           107.247471     \n",
       "seatbelt     -3.3876572   7.3961591   1.0704281            13.142185     \n",
       "sex           0.8021174  -0.1223788   0.6670998             7.909963     \n",
       "ageOFocc      8.1824938  -1.6836470   6.4161685            66.535835     \n",
       "yearacc       6.5883934  -0.1038826   5.5741339            22.651917     \n",
       "yearVeh      12.7246541   3.9657789  13.3935378            41.393088     \n",
       "abcat         7.7248377  -1.3052906   7.1192517             5.230626     \n",
       "occRole       1.4967473   0.8574473   1.6488738             6.712846     \n",
       "deploy        5.4910223  -0.3704413   4.8668428             4.738656     \n",
       "injSeverity 130.1512571 673.7483387 224.6117765          1880.584599     \n",
       "frontal       6.5042801  10.0521840  11.8679938            11.927688     \n",
       "airbag        6.2643220  -0.5682610   5.9212083             2.216257     "
      ]
     },
     "metadata": {},
     "output_type": "display_data"
    }
   ],
   "source": [
    "importance(random_eq9)"
   ]
  },
  {
   "cell_type": "markdown",
   "metadata": {},
   "source": [
    "The variable importance plot is plot and variable importance chart shows the independent variables in sequence according to the magnitude of impact they make on the prediction accuracy. The variables are sorted on the bases of two factors which are “Mean Decrease in Accuracy” and “Mean Decrease in Gini”."
   ]
  },
  {
   "cell_type": "code",
   "execution_count": 20,
   "metadata": {},
   "outputs": [
    {
     "data": {
      "image/png": "[encoded data removed]",
      "text/plain": [
       "plot without title"
      ]
     },
     "metadata": {},
     "output_type": "display_data"
    }
   ],
   "source": [
    "varImpPlot(random_eq9)"
   ]
  },
  {
   "cell_type": "markdown",
   "metadata": {},
   "source": [
    "shows the top predicting values in descending order from the top to bottom with the best predicting variable as “injSeverity”. The order of the variable importance from the most important to the least important variable according to mean decrease in accuracy is “injSeverity”, “dvcat”, “yearVeh”, “frontal”, “abcat”, “ageOFocc”, “airbag”, “yearacc”, “weight”, “deploy”, “occRole”,  “seatbelt”, and “sex”. The importance of the variable according to the mean decrease in gini is “injSeverity”, “weight”, “dvcat”, “ageOFocc”, “yearVeh”, “yearacc”, “seatbelt”, “frontal”, “sex”, “occRole”, “abcat”, “deploy”, and “airbag”. "
   ]
  },
  {
   "cell_type": "code",
   "execution_count": 21,
   "metadata": {},
   "outputs": [
    {
     "data": {
      "text/html": [
       "0.996151687645314"
      ],
      "text/latex": [
       "0.996151687645314"
      ],
      "text/markdown": [
       "0.996151687645314"
      ],
      "text/plain": [
       "[1] 0.9961517"
      ]
     },
     "metadata": {},
     "output_type": "display_data"
    },
    {
     "data": {
      "text/html": [
       "0.998673793352892"
      ],
      "text/latex": [
       "0.998673793352892"
      ],
      "text/markdown": [
       "0.998673793352892"
      ],
      "text/plain": [
       "[1] 0.9986738"
      ]
     },
     "metadata": {},
     "output_type": "display_data"
    },
    {
     "data": {
      "text/html": [
       "0.995050454667536"
      ],
      "text/latex": [
       "0.995050454667536"
      ],
      "text/markdown": [
       "0.995050454667536"
      ],
      "text/plain": [
       "[1] 0.9950505"
      ]
     },
     "metadata": {},
     "output_type": "display_data"
    },
    {
     "data": {
      "text/plain": [
       "Time difference of 3.692991 mins"
      ]
     },
     "metadata": {},
     "output_type": "display_data"
    }
   ],
   "source": [
    "(recall2<- 24850/(24850+96))\n",
    "(precision2<- 24850/(24850+33))\n",
    "(Accuracy2<- (24850+1084)/(24850+1084+96+33))\n",
    "\n",
    "end_time <- Sys.time()\n",
    "\n",
    "end_time - start_time"
   ]
  },
  {
   "cell_type": "markdown",
   "metadata": {},
   "source": [
    "Conclusion- The confusion matrix shows that for model “random_eq9”, the TP is 24850 and the TN is 1084. The FP is 33 and the FN is 96. Thus 24850 values were predicted alive and were alive and 1084 people predicted dead turned out to be dead. However, 33 people were alive but were misclassified as dead and 96 people were dead but were predicted alive as an error. Thus the recall for the model is 99.6%. This shows that out of all the people that were predicted alive, 99.6% were actually alive and the rest were dead. The precision of 99.8% shows that out of all the alive people that were to be predicted, only 99.8% were predicted correctly. The accuracy of the model turned out to be 99.5%.\n",
    "The Random forest model worked best for the prediction of the “dead” on the basis of the independent variables with an accuracy of 99.5% and misclassification rate of 0.05%.\n",
    "Random forest model predicted more TP and TN values than that of the Logistic Regression model and thus the recall, precision, and accuracy significantly increased in the Random forest model."
   ]
  }
 ],
 "metadata": {
  "kernelspec": {
   "display_name": "R",
   "language": "R",
   "name": "ir"
  },
  "language_info": {
   "codemirror_mode": "r",
   "file_extension": ".r",
   "mimetype": "text/x-r-source",
   "name": "R",
   "pygments_lexer": "r",
   "version": "4.0.5"
  }
 },
 "nbformat": 4,
 "nbformat_minor": 4
}
